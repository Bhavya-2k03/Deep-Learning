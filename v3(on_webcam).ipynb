{
  "nbformat": 4,
  "nbformat_minor": 0,
  "metadata": {
    "colab": {
      "name": "v3(on_webcam).ipynb",
      "provenance": [],
      "collapsed_sections": [],
      "include_colab_link": true
    },
    "kernelspec": {
      "name": "python3",
      "display_name": "Python 3"
    },
    "language_info": {
      "name": "python"
    }
  },
  "cells": [
    {
      "cell_type": "markdown",
      "metadata": {
        "id": "view-in-github",
        "colab_type": "text"
      },
      "source": [
        "<a href=\"https://colab.research.google.com/github/Bhavya-2k03/Deep-Learning/blob/main/v3(on_webcam).ipynb\" target=\"_parent\"><img src=\"https://colab.research.google.com/assets/colab-badge.svg\" alt=\"Open In Colab\"/></a>"
      ]
    },
    {
      "cell_type": "code",
      "execution_count": null,
      "metadata": {
        "id": "7YLJOQ_vCAUU"
      },
      "outputs": [],
      "source": [
        "import cv2\n",
        "import numpy as np\n",
        "import time\n",
        "import os\n",
        "from os.path import join,isfile\n",
        "from os import listdir\n",
        "from google.colab.patches import cv2_imshow"
      ]
    },
    {
      "cell_type": "code",
      "source": [
        "!wget https://moderncomputervision.s3.eu-west-2.amazonaws.com/YOLO.zip"
      ],
      "metadata": {
        "colab": {
          "base_uri": "https://localhost:8080/"
        },
        "id": "PZ5SpPasNBvM",
        "outputId": "7da38a69-d4d6-4b25-fece-dd82c72e55aa"
      },
      "execution_count": null,
      "outputs": [
        {
          "output_type": "stream",
          "name": "stdout",
          "text": [
            "--2022-07-08 05:06:54--  https://moderncomputervision.s3.eu-west-2.amazonaws.com/YOLO.zip\n",
            "Resolving moderncomputervision.s3.eu-west-2.amazonaws.com (moderncomputervision.s3.eu-west-2.amazonaws.com)... 52.95.150.42\n",
            "Connecting to moderncomputervision.s3.eu-west-2.amazonaws.com (moderncomputervision.s3.eu-west-2.amazonaws.com)|52.95.150.42|:443... connected.\n",
            "HTTP request sent, awaiting response... 200 OK\n",
            "Length: 231559154 (221M) [application/zip]\n",
            "Saving to: ‘YOLO.zip’\n",
            "\n",
            "YOLO.zip            100%[===================>] 220.83M  36.2MB/s    in 6.9s    \n",
            "\n",
            "2022-07-08 05:07:02 (32.1 MB/s) - ‘YOLO.zip’ saved [231559154/231559154]\n",
            "\n"
          ]
        }
      ]
    },
    {
      "cell_type": "code",
      "source": [
        "! unzip YOLO.zip"
      ],
      "metadata": {
        "colab": {
          "base_uri": "https://localhost:8080/"
        },
        "id": "hYCk37udNGPi",
        "outputId": "f9280694-1d35-4f57-d2f7-d6920b12d74e"
      },
      "execution_count": null,
      "outputs": [
        {
          "output_type": "stream",
          "name": "stdout",
          "text": [
            "Archive:  YOLO.zip\n",
            "   creating: YOLO/\n",
            "  inflating: YOLO/.DS_Store          \n",
            "  inflating: __MACOSX/YOLO/._.DS_Store  \n",
            "   creating: YOLO/images/\n",
            "   creating: YOLO/yolo/\n",
            "  inflating: YOLO/images/londonxmas2.jpeg  \n",
            "  inflating: __MACOSX/YOLO/images/._londonxmas2.jpeg  \n",
            "  inflating: YOLO/images/coffee_view.jpeg  \n",
            "  inflating: __MACOSX/YOLO/images/._coffee_view.jpeg  \n",
            "  inflating: YOLO/images/coffee.jpg  \n",
            "  inflating: __MACOSX/YOLO/images/._coffee.jpg  \n",
            "  inflating: YOLO/images/iceland_rum.jpeg  \n",
            "  inflating: __MACOSX/YOLO/images/._iceland_rum.jpeg  \n",
            "  inflating: YOLO/images/rot.jpg     \n",
            "  inflating: __MACOSX/YOLO/images/._rot.jpg  \n",
            "  inflating: YOLO/images/tommys_beers.jpeg  \n",
            "  inflating: __MACOSX/YOLO/images/._tommys_beers.jpeg  \n",
            "  inflating: YOLO/images/Volleyball.jpeg  \n",
            "  inflating: __MACOSX/YOLO/images/._Volleyball.jpeg  \n",
            "  inflating: YOLO/images/truck.jpg   \n",
            "  inflating: __MACOSX/YOLO/images/._truck.jpg  \n",
            "  inflating: YOLO/images/flowers.jpeg  \n",
            "  inflating: __MACOSX/YOLO/images/._flowers.jpeg  \n",
            "  inflating: YOLO/yolo/coco.names    \n",
            "  inflating: YOLO/yolo/yolov3.cfg    \n",
            "  inflating: YOLO/yolo/yolov3.weights  \n",
            "  inflating: __MACOSX/YOLO/yolo/._yolov3.weights  \n"
          ]
        }
      ]
    },
    {
      "cell_type": "code",
      "source": [
        "\n",
        "labels_path=\"/content/YOLO/yolo/coco.names\"\n",
        "labels=open(labels_path).read().strip().split('\\n')\n",
        "\n",
        "colors=np.random.randint(0,255,size=(len(labels),3),dtype='uint8')\n",
        "print(len(colors))\n",
        "\n",
        "net=cv2.dnn.readNetFromDarknet(\"/content/YOLO/yolo/yolov3.cfg\",\"/content/YOLO/yolo/yolov3.weights\")\n",
        "net.setPreferableBackend(cv2.dnn.DNN_BACKEND_OPENCV)\n"
      ],
      "metadata": {
        "colab": {
          "base_uri": "https://localhost:8080/"
        },
        "id": "udTuhLl9NQX4",
        "outputId": "af0a2c2f-1b1c-42a7-bc07-15951eb48900"
      },
      "execution_count": null,
      "outputs": [
        {
          "output_type": "stream",
          "name": "stdout",
          "text": [
            "80\n"
          ]
        }
      ]
    },
    {
      "cell_type": "code",
      "source": [
        "from IPython.display import display, Javascript\n",
        "from google.colab.output import eval_js\n",
        "from base64 import b64decode\n",
        "\n",
        "def take_photo(filename='photo.jpg', quality=0.8):\n",
        "  js = Javascript('''\n",
        "    async function takePhoto(quality) {\n",
        "      const div = document.createElement('div');\n",
        "      const capture = document.createElement('button');\n",
        "      capture.textContent = 'Capture';\n",
        "      div.appendChild(capture);\n",
        "\n",
        "      const video = document.createElement('video');\n",
        "      video.style.display = 'block';\n",
        "      const stream = await navigator.mediaDevices.getUserMedia({video: true});\n",
        "\n",
        "      document.body.appendChild(div);\n",
        "      div.appendChild(video);\n",
        "      video.srcObject = stream;\n",
        "      await video.play();\n",
        "\n",
        "      // Resize the output to fit the video element.\n",
        "      google.colab.output.setIframeHeight(document.documentElement.scrollHeight, true);\n",
        "\n",
        "      // Wait for Capture to be clicked.\n",
        "      await new Promise((resolve) => capture.onclick = resolve);\n",
        "\n",
        "      const canvas = document.createElement('canvas');\n",
        "      canvas.width = video.videoWidth;\n",
        "      canvas.height = video.videoHeight;\n",
        "      canvas.getContext('2d').drawImage(video, 0, 0);\n",
        "      stream.getVideoTracks()[0].stop();\n",
        "      div.remove();\n",
        "      return canvas.toDataURL('image/jpeg', quality);\n",
        "    }\n",
        "    ''')\n",
        "  display(js)\n",
        "  data = eval_js('takePhoto({})'.format(quality))\n",
        "  binary = b64decode(data.split(',')[1])\n",
        "  with open(filename, 'wb') as f:\n",
        "    f.write(binary)\n",
        "  return filename"
      ],
      "metadata": {
        "id": "yoJSE6S3IFhh"
      },
      "execution_count": null,
      "outputs": []
    },
    {
      "cell_type": "code",
      "source": [
        "from IPython.display import Image\n",
        "try:\n",
        "  filename = take_photo()\n",
        "  print('Saved to {}'.format(filename))\n",
        "  \n",
        "  # Show the image which was just taken.\n",
        "  display(Image(filename))\n",
        "except Exception as err:\n",
        "  # Errors will be thrown if the user does not have a webcam or if they do not\n",
        "  # grant the page permission to access it.\n",
        "  print(str(err))"
      ],
      "metadata": {
        "id": "zYf39caNIFhq"
      },
      "execution_count": null,
      "outputs": []
    },
    {
      "cell_type": "code",
      "source": [
        "\n",
        "image=cv2.imread(\"/content/photo.jpg\")\n",
        "(H,W)=image.shape[:2]\n",
        "blob=cv2.dnn.blobFromImage(image,1/255,(416,416),swapRB=True,crop=False)\n",
        "net.setInput(blob)\n",
        "out_ln=net.getUnconnectedOutLayersNames()\n",
        "layer_outputs=net.forward(out_ln)\n",
        "boxe_s=[]\n",
        "classids=[]\n",
        "confidence_s=[]\n",
        "for outputs in layer_outputs:\n",
        "  for detection in outputs:\n",
        "   scores=detection[5:]\n",
        "   id =np.argmax(scores)\n",
        "   confidence=max(scores)\n",
        "\n",
        "   if confidence>0.75:\n",
        "     box=detection[0:4]*np.array([W,H,W,H])\n",
        "     (centre_x,centre_y,width,height)=box.astype(\"int\")\n",
        "     x=(centre_x-width/2)\n",
        "     y=(centre_y-height/2)\n",
        "     boxe_s.append([int(x),int(y),int(width),int(height)]) \n",
        "     classids.append(id)\n",
        "     confidence_s.append(float(confidence))\n",
        "idxs=cv2.dnn.NMSBoxes(boxe_s,confidence_s,0.5,0.3)\n",
        "\n",
        "if len(idxs)>0 :\n",
        "  for i in idxs.flatten():\n",
        "   (x,y)=boxe_s[i][0],boxe_s[i][1]\n",
        "   (width,height)=boxe_s[i][2],boxe_s[i][3]\n",
        "   colo_r=[int(c) for c in colors[classids[i]]]\n",
        "   cv2.rectangle(image,(x,y),(x+width,y+width),colo_r,3)\n",
        "   text=\"{}: {:.4f}\".format(labels[classids[i]],confidence_s[i])\n",
        "   cv2.putText(image,text,(x,y-5),cv2.FONT_HERSHEY_SIMPLEX,0.5,colo_r,2)  \n",
        "\n",
        "cv2_imshow(image)\n",
        "cv2.imwrite(\"Output.jpg\", image)\n",
        "\n",
        "from google.colab import files\n",
        "files.download(\"Output.jpg\")\n",
        "\n",
        "\n"
      ],
      "metadata": {
        "id": "zXZlQ8JuMTWt"
      },
      "execution_count": null,
      "outputs": []
    },
    {
      "cell_type": "code",
      "source": [
        ""
      ],
      "metadata": {
        "id": "prrOyRssoorN"
      },
      "execution_count": null,
      "outputs": []
    }
  ]
}